{
 "cells": [
  {
   "cell_type": "code",
   "execution_count": 1,
   "id": "7214f728-1bca-470b-b452-99fac9fc4f42",
   "metadata": {},
   "outputs": [],
   "source": [
    "import pennylane as qml\n",
    "import pennylane.numpy as np\n",
    "import matplotlib.pyplot as plt\n",
    "%matplotlib inline"
   ]
  },
  {
   "cell_type": "code",
   "execution_count": 4,
   "id": "03157436-7498-4ef5-9afa-c935d27be08b",
   "metadata": {},
   "outputs": [
    {
     "name": "stdout",
     "output_type": "stream",
     "text": [
      "The result of applying the secret box to  [1, 1, 0] is \n",
      "[1, 0, 1]\n",
      "[0, 0, 1]\n",
      "[0, 1, 1]\n"
     ]
    }
   ],
   "source": [
    "input = [1, 1, 0] # MODIFY EXAMPLE\n",
    "print(\"The result of applying the secret box to \", input, \"is \")\n",
    "# We will secretly apply the function and return the result!\n",
    "\n",
    "def deterministic_box(bits):\n",
    "    \"\"\"Guess the secret deterministic rule.\n",
    "    \n",
    "    Args:\n",
    "        bits (list[int]): A list of bits representing an initial condition.\n",
    "         \n",
    "    Returns: \n",
    "        list[int]: The output bits measured after deterministic evolution.\n",
    "    \"\"\"\n",
    "    ##################\n",
    "    # YOUR CODE HERE #\n",
    "    ##################\n",
    "    return bits[1:]+[bits[0]] # MODIFY THIS\n",
    "\n",
    "print(deterministic_box(input))\n",
    "print(deterministic_box([1, 0, 0]))\n",
    "print(deterministic_box([1, 0, 1]))"
   ]
  },
  {
   "cell_type": "code",
   "execution_count": null,
   "id": "bfcbe429-a1e4-41eb-a459-206674b4157c",
   "metadata": {},
   "outputs": [],
   "source": []
  }
 ],
 "metadata": {
  "kernelspec": {
   "display_name": "Python 3 (ipykernel)",
   "language": "python",
   "name": "python3"
  },
  "language_info": {
   "codemirror_mode": {
    "name": "ipython",
    "version": 3
   },
   "file_extension": ".py",
   "mimetype": "text/x-python",
   "name": "python",
   "nbconvert_exporter": "python",
   "pygments_lexer": "ipython3",
   "version": "3.11.5"
  },
  "widgets": {
   "application/vnd.jupyter.widget-state+json": {
    "state": {},
    "version_major": 2,
    "version_minor": 0
   }
  }
 },
 "nbformat": 4,
 "nbformat_minor": 5
}
