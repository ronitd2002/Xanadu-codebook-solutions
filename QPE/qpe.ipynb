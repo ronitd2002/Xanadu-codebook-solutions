{
 "cells": [
  {
   "cell_type": "code",
   "execution_count": 1,
   "id": "3fe22a9e-b369-490a-99bf-25bd14fd02ab",
   "metadata": {},
   "outputs": [],
   "source": [
    "import pennylane as qml\n",
    "import pennylane.numpy as np\n",
    "import matplotlib.pyplot as plt\n",
    "\n",
    "%matplotlib inline"
   ]
  },
  {
   "cell_type": "code",
   "execution_count": 8,
   "id": "0c4b691c-2ea6-490e-8e5b-be305ea067d8",
   "metadata": {},
   "outputs": [
    {
     "name": "stdout",
     "output_type": "stream",
     "text": [
      "[1. 0.]\n"
     ]
    }
   ],
   "source": [
    "dev = qml.device(\"default.qubit\", wires=2)\n",
    "\n",
    "@qml.qnode(dev)\n",
    "def guess_the_unitary(unitary):\n",
    "    \"\"\"Given a unitary that performs a Z or a -Z operation\n",
    "    on a qubit, guess which one it is.\n",
    "    \n",
    "    Args: \n",
    "        U (array[complex]): A unitary matrix, guaranteed to be either Z or -Z.\n",
    "    \n",
    "    Returns:\n",
    "        array [int]:  Probabilities on  on the first qubit\n",
    "        using qml.probs()\n",
    "    \"\"\"\n",
    "    ##################\n",
    "    # YOUR CODE HERE #\n",
    "    ##################  \n",
    "    qml.Hadamard(0)\n",
    "    qml.ControlledQubitUnitary(unitary,wires=1,control_wires=0)\n",
    "    qml.Hadamard(0)\n",
    "    return qml.probs(0)\n",
    "\n",
    "# Z gate \n",
    "U = qml.PauliZ.compute_matrix() \n",
    "\n",
    "# -Z gate\n",
    "# U = (-1)*qml.PauliZ.compute_matrix()\n",
    "\n",
    "print(guess_the_unitary(U))"
   ]
  },
  {
   "cell_type": "code",
   "execution_count": 9,
   "id": "a4c68d39-c5ef-46b2-a6da-85bea26841e9",
   "metadata": {},
   "outputs": [
    {
     "name": "stdout",
     "output_type": "stream",
     "text": [
      "[0. 1.]\n"
     ]
    }
   ],
   "source": [
    "# -Z gate\n",
    "U = (-1)*qml.PauliZ.compute_matrix()\n",
    "\n",
    "print(guess_the_unitary(U))"
   ]
  },
  {
   "cell_type": "code",
   "execution_count": null,
   "id": "0ff13cf8-1d79-41a9-997e-fa945de1a487",
   "metadata": {},
   "outputs": [],
   "source": []
  }
 ],
 "metadata": {
  "kernelspec": {
   "display_name": "Python 3 (ipykernel)",
   "language": "python",
   "name": "python3"
  },
  "language_info": {
   "codemirror_mode": {
    "name": "ipython",
    "version": 3
   },
   "file_extension": ".py",
   "mimetype": "text/x-python",
   "name": "python",
   "nbconvert_exporter": "python",
   "pygments_lexer": "ipython3",
   "version": "3.12.3"
  },
  "widgets": {
   "application/vnd.jupyter.widget-state+json": {
    "state": {},
    "version_major": 2,
    "version_minor": 0
   }
  }
 },
 "nbformat": 4,
 "nbformat_minor": 5
}
