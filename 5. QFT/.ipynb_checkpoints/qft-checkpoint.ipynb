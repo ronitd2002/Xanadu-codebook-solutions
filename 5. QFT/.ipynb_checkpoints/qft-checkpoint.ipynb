{
 "cells": [
  {
   "cell_type": "code",
   "execution_count": 1,
   "id": "3f24645c-2578-4b90-adaa-78a77eb947d3",
   "metadata": {},
   "outputs": [],
   "source": [
    "import pennylane as qml\n",
    "import pennylane.numpy as np\n",
    "import matplotlib.pyplot as plt\n",
    "\n",
    "%matplotlib inline"
   ]
  },
  {
   "cell_type": "markdown",
   "id": "5c4ab3ff-3a0e-48cc-ad48-be91a796a109",
   "metadata": {},
   "source": [
    "# module 1"
   ]
  },
  {
   "cell_type": "code",
   "execution_count": 2,
   "id": "7befe8f4-02aa-473c-a424-3689ea2be80f",
   "metadata": {},
   "outputs": [
    {
     "name": "stdout",
     "output_type": "stream",
     "text": [
      "[10.+0.j  2.-2.j  2.+0.j  2.+2.j]\n"
     ]
    }
   ],
   "source": [
    "def coefficients_to_values(coefficients):\n",
    "    \"\"\"Returns the value representation of a polynomial\n",
    "    \n",
    "    Args:\n",
    "        coefficients (array[complex]): a 1-D array of complex \n",
    "            coefficients of a polynomial with \n",
    "            index i representing the i-th degree coefficient\n",
    "\n",
    "    Returns: \n",
    "        array[complex]: the value representation of the \n",
    "            polynomial \n",
    "    \"\"\"\n",
    "    ##################\n",
    "    # YOUR CODE HERE #\n",
    "    ################## \n",
    "    return np.fft.fft(coefficients)\n",
    "\n",
    "A = [4, 3, 2, 1]\n",
    "print(coefficients_to_values(A))"
   ]
  },
  {
   "cell_type": "code",
   "execution_count": null,
   "id": "7632333f-674d-4e21-b4d5-e6eff6c5e7dd",
   "metadata": {},
   "outputs": [],
   "source": []
  }
 ],
 "metadata": {
  "kernelspec": {
   "display_name": "Python 3 (ipykernel)",
   "language": "python",
   "name": "python3"
  },
  "language_info": {
   "codemirror_mode": {
    "name": "ipython",
    "version": 3
   },
   "file_extension": ".py",
   "mimetype": "text/x-python",
   "name": "python",
   "nbconvert_exporter": "python",
   "pygments_lexer": "ipython3",
   "version": "3.11.5"
  },
  "widgets": {
   "application/vnd.jupyter.widget-state+json": {
    "state": {},
    "version_major": 2,
    "version_minor": 0
   }
  }
 },
 "nbformat": 4,
 "nbformat_minor": 5
}
