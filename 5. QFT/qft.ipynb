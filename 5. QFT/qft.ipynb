{
 "cells": [
  {
   "cell_type": "code",
   "execution_count": 1,
   "id": "3f24645c-2578-4b90-adaa-78a77eb947d3",
   "metadata": {},
   "outputs": [],
   "source": [
    "import pennylane as qml\n",
    "import pennylane.numpy as np\n",
    "import matplotlib.pyplot as plt\n",
    "\n",
    "%matplotlib inline"
   ]
  },
  {
   "cell_type": "markdown",
   "id": "5c4ab3ff-3a0e-48cc-ad48-be91a796a109",
   "metadata": {},
   "source": [
    "# Module 1"
   ]
  },
  {
   "cell_type": "code",
   "execution_count": 2,
   "id": "7befe8f4-02aa-473c-a424-3689ea2be80f",
   "metadata": {},
   "outputs": [
    {
     "name": "stdout",
     "output_type": "stream",
     "text": [
      "[10.+0.j  2.-2.j  2.+0.j  2.+2.j]\n"
     ]
    }
   ],
   "source": [
    "def coefficients_to_values(coefficients):\n",
    "    \"\"\"Returns the value representation of a polynomial\n",
    "    \n",
    "    Args:\n",
    "        coefficients (array[complex]): a 1-D array of complex \n",
    "            coefficients of a polynomial with \n",
    "            index i representing the i-th degree coefficient\n",
    "\n",
    "    Returns: \n",
    "        array[complex]: the value representation of the \n",
    "            polynomial \n",
    "    \"\"\"\n",
    "    ##################\n",
    "    # YOUR CODE HERE #\n",
    "    ################## \n",
    "    return np.fft.fft(coefficients)\n",
    "\n",
    "A = [4, 3, 2, 1]\n",
    "print(coefficients_to_values(A))"
   ]
  },
  {
   "cell_type": "code",
   "execution_count": 3,
   "id": "7632333f-674d-4e21-b4d5-e6eff6c5e7dd",
   "metadata": {},
   "outputs": [
    {
     "name": "stdout",
     "output_type": "stream",
     "text": [
      "[10.+0.j  2.-2.j  2.+0.j  2.+2.j]\n"
     ]
    }
   ],
   "source": [
    "def coefficients_to_values(coefficients):\n",
    "    \"\"\"Returns the value representation of a polynomial\n",
    "    \n",
    "    Args:\n",
    "        coefficients (array[complex]): a 1-D array of complex \n",
    "            coefficients of a polynomial with \n",
    "            index i representing the i-th degree coefficient\n",
    "\n",
    "    Returns: \n",
    "        array[complex]: the value representation of the \n",
    "            polynomial \n",
    "    \"\"\"\n",
    "    ##################\n",
    "    # YOUR CODE HERE #\n",
    "    ################## \n",
    "    return np.fft.fft(coefficients)\n",
    "\n",
    "A = [4, 3, 2, 1]\n",
    "print(coefficients_to_values(A))\n"
   ]
  },
  {
   "cell_type": "code",
   "execution_count": 4,
   "id": "247807f7",
   "metadata": {},
   "outputs": [
    {
     "name": "stdout",
     "output_type": "stream",
     "text": [
      "[4.+0.j 3.+0.j 2.+0.j 1.+0.j]\n"
     ]
    }
   ],
   "source": [
    "def values_to_coefficients(values):\n",
    "   #Compute the action U_IDFT on \\tilde{A}(x) using the numpy inverse FFT function\n",
    "    return np.fft.ifft(values)\n",
    "\n",
    "A = [10.+0.j,  2.-2.j,  2.+0.j,  2.+2.j]\n",
    "print(values_to_coefficients(A))"
   ]
  },
  {
   "cell_type": "code",
   "execution_count": 5,
   "id": "13533fbd",
   "metadata": {},
   "outputs": [],
   "source": [
    "def nearest_power_of_2(x):\n",
    "    return 2 ** int(np.ceil(np.log2(x)))"
   ]
  },
  {
   "cell_type": "code",
   "execution_count": 6,
   "id": "5edbac67",
   "metadata": {},
   "outputs": [],
   "source": [
    "def fft_multiplication(poly_a, poly_b):\n",
    "    # Calculate the number of values required\n",
    "    x = len(poly_a) + len(poly_b) -1\n",
    "\n",
    "    # Figure out the nearest power of 2\n",
    "    m = nearest_power_of_2(x)\n",
    "\n",
    "    # Pad zeros to the polynomial\n",
    "    poly_a = np.pad(poly_a, pad_width = (0, m - len(poly_a)), mode = 'constant')\n",
    "    poly_b = np.pad(poly_b, pad_width = (0, m - len(poly_b)), mode = 'constant')\n",
    "\n",
    "    # Compute the value representation of each polynomial using DFT\n",
    "    val_a = coefficients_to_values(poly_a)\n",
    "    val_b = coefficients_to_values(poly_b)\n",
    "\n",
    "    # Compute the dot product of value representation vectors\n",
    "    val_c = np.multiply(val_a, val_b)\n",
    "    \n",
    "    # Convert back to coefficient representation using IDFT\n",
    "    poly_c = values_to_coefficients(val_c)\n",
    "    \n",
    "    return poly_c"
   ]
  },
  {
   "cell_type": "markdown",
   "id": "1a508982",
   "metadata": {},
   "source": [
    "# Module 2"
   ]
  },
  {
   "cell_type": "code",
   "execution_count": 7,
   "id": "dfa187e4",
   "metadata": {},
   "outputs": [],
   "source": [
    "dev = qml.device(\"default.qubit\", wires=1)\n",
    "\n",
    "@qml.qnode(dev)\n",
    "def one_qubit_QFT(basis_id):\n",
    "    # Prepare the basis state |basis_id>\n",
    "    bits = [int(x) for x in np.binary_repr(basis_id, width=1)]\n",
    "    qml.BasisStatePreparation(bits, wires=[0])\n",
    "\n",
    "    qml.Hadamard(wires = 0)\n",
    "    return qml.state()"
   ]
  },
  {
   "cell_type": "code",
   "execution_count": 8,
   "id": "39bca3e8",
   "metadata": {},
   "outputs": [],
   "source": [
    "n_bits = 2\n",
    "dev = qml.device(\"default.qubit\", wires=n_bits)\n",
    "\n",
    "@qml.qnode(dev)\n",
    "def two_qubit_QFT(basis_id):\n",
    "    # Prepare the basis state |basis_id>\n",
    "    bits = [int(x) for x in np.binary_repr(basis_id, width=n_bits)]\n",
    "    qml.BasisStatePreparation(bits, wires=[0, 1])\n",
    "    \n",
    "    #Define a function that raises omega to the nth power\n",
    "    def omega(n):\n",
    "        return np.exp(2 * np.pi * 1j/4 * n)\n",
    "    \n",
    "    #Create U_QFT\n",
    "    U_QFT = (1/2) * np.array([[1,1,1,1], [1, omega(1), omega(2), omega(3)], \n",
    "    [1, omega(2), omega(4), omega(6)], [1, omega(3), omega(6), omega(9)]])\n",
    "    \n",
    "    #Apply it to the state\n",
    "    qml.QubitUnitary(U_QFT, wires = [0,1])\n",
    "    return qml.state()"
   ]
  },
  {
   "cell_type": "code",
   "execution_count": 9,
   "id": "7d0ca99d",
   "metadata": {},
   "outputs": [],
   "source": [
    "dev = qml.device(\"default.qubit\", wires=2)\n",
    "\n",
    "@qml.qnode(dev)\n",
    "def decompose_two_qubit_QFT(basis_id):\n",
    "    # Prepare the basis state |basis_id>\n",
    "    bits = [int(x) for x in np.binary_repr(basis_id, width=2)]\n",
    "    qml.BasisStatePreparation(bits, wires=[0, 1])\n",
    "    \n",
    "    qml.Hadamard(wires = 0)\n",
    "    qml.ctrl(qml.S(wires=0), control = 1)\n",
    "    qml.Hadamard(wires = 1)\n",
    "    qml.SWAP(wires = [0,1])\n",
    "    return qml.state()"
   ]
  },
  {
   "cell_type": "markdown",
   "id": "75f053fc",
   "metadata": {},
   "source": [
    "# Module 3"
   ]
  },
  {
   "cell_type": "code",
   "execution_count": 10,
   "id": "5d5736ff",
   "metadata": {},
   "outputs": [],
   "source": [
    "dev = qml.device(\"default.qubit\", wires=3)\n",
    "\n",
    "#This for some reason outputs \"Incorrect: Your resulting output doesn't look quite right.\"\n",
    "@qml.qnode(dev)\n",
    "def three_qubit_QFT(basis_id):\n",
    "    # Prepare the basis state |basis_id>\n",
    "    bits = [int(x) for x in np.binary_repr(basis_id, width=3)]\n",
    "    qml.BasisStatePreparation(bits, wires=[0, 1, 2])\n",
    "    \n",
    "    #Note that R(2) = S gate and R(3) = T gate\n",
    "    qml.Hadamard(wires=0)\n",
    "    qml.ctrl(qml.S(wires=0), control=1)\n",
    "    qml.ctrl(qml.T(wires=0), control=2)\n",
    "    qml.Hadamard(wires=1)\n",
    "    qml.ctrl(qml.S(wires=1), control=2)\n",
    "    qml.Hadamard(wires=2)\n",
    "    qml.SWAP(wires=[0,2])\n",
    "    \n",
    "    return qml.state()"
   ]
  },
  {
   "cell_type": "code",
   "execution_count": 11,
   "id": "edb3725b",
   "metadata": {},
   "outputs": [],
   "source": [
    "dev = qml.device('default.qubit', wires=4)\n",
    "\n",
    "            \n",
    "def swap_bits(n_qubits):\n",
    "    \"\"\"A circuit that reverses the order of qubits, i.e.,\n",
    "    performs a SWAP such that [q1, q2, ..., qn] -> [qn, ... q2, q1].\n",
    "    \n",
    "    Args:\n",
    "        n_qubits (int): An integer value identifying the number of qubits.\n",
    "    \"\"\"\n",
    "    ##################\n",
    "    # YOUR CODE HERE #\n",
    "    ##################\n",
    "    for wire in range(n_qubits//2):\n",
    "        qml.SWAP([wire,n_qubits-wire-1])\n",
    "\n",
    "@qml.qnode(dev) \n",
    "def qft_node(basis_id, n_qubits):\n",
    "    # Prepare the basis state |basis_id>\n",
    "    bits = [int(x) for x in np.binary_repr(basis_id, width=n_qubits)]\n",
    "    qml.BasisStatePreparation(bits, wires=range(n_qubits))\n",
    "    # qft_rotations(n_qubits)\n",
    "    swap_bits(n_qubits)\n",
    "    return qml.state()\n"
   ]
  },
  {
   "cell_type": "code",
   "execution_count": 12,
   "id": "d11167ae",
   "metadata": {},
   "outputs": [],
   "source": [
    "dev = qml.device('default.qubit', wires=4)\n",
    "\n",
    "def qft_rotations(n_qubits):\n",
    "    \"\"\"A circuit performs the QFT rotations on the specified qubits.\n",
    "    \n",
    "    Args:\n",
    "        n_qubits (int): An integer value identifying the number of qubits.\n",
    "    \"\"\"\n",
    "\n",
    "    ##################\n",
    "    # YOUR CODE HERE #\n",
    "    ################## \n",
    "    for wire in range(n_qubits):\n",
    "        qml.Hadamard(wire)\n",
    "        for subwire in range(wire+1,n_qubits):\n",
    "            qml.ControlledPhaseShift(np.pi/2**(subwire-wire),[subwire,wire])\n",
    "\n",
    "@qml.qnode(dev) \n",
    "def qft_node(basis_id, n_qubits):\n",
    "    # Prepare the basis state |basis_id>\n",
    "    bits = [int(x) for x in np.binary_repr(basis_id, width=n_qubits)]\n",
    "    qml.BasisStatePreparation(bits, wires=range(n_qubits))\n",
    "    qft_rotations(n_qubits)\n",
    "    swap_bits(n_qubits)\n",
    "    return qml.state()\n"
   ]
  },
  {
   "cell_type": "code",
   "execution_count": 13,
   "id": "d8409307",
   "metadata": {},
   "outputs": [],
   "source": [
    "dev = qml.device('default.qubit', wires=4)\n",
    "\n",
    "def qft_recursive_rotations(n_qubits, wire=0):\n",
    "    \"\"\"A circuit that performs the QFT rotations on the specified qubits\n",
    "        recursively.\n",
    "        \n",
    "    Args:\n",
    "        n_qubits (int): An integer value identifying the number of qubits.\n",
    "        wire (int): An integer identifying the wire \n",
    "                    (or the qubit) to apply rotations on.\n",
    "    \"\"\"\n",
    "\n",
    "    ##################\n",
    "    # YOUR CODE HERE #\n",
    "    ################## \n",
    "    if wire < n_qubits:\n",
    "        qml.Hadamard(wire)\n",
    "        for subwire in range(wire+1,n_qubits):\n",
    "            qml.ControlledPhaseShift(np.pi/2**(subwire-wire),[subwire,wire])\n",
    "        return qft_recursive_rotations(n_qubits,wire=wire+1)\n",
    "        \n",
    "    else:\n",
    "        return\n",
    "\n",
    "@qml.qnode(dev) \n",
    "def qft_node(basis_id, n_qubits):\n",
    "    # Prepare the basis state |basis_id>\n",
    "    bits = [int(x) for x in np.binary_repr(basis_id, width=n_qubits)]\n",
    "    qml.BasisStatePreparation(bits, wires=range(n_qubits))\n",
    "    qft_recursive_rotations(n_qubits)\n",
    "    swap_bits(n_qubits)\n",
    "    return qml.state()\n"
   ]
  },
  {
   "cell_type": "code",
   "execution_count": 14,
   "id": "1c2e2438",
   "metadata": {},
   "outputs": [],
   "source": [
    "dev = qml.device('default.qubit', wires=4)\n",
    "\n",
    "@qml.qnode(dev)\n",
    "def pennylane_qft(basis_id, n_qubits):\n",
    "    \"\"\"A that circuit performs the QFT using PennyLane's QFT template.\n",
    "    \n",
    "    Args:\n",
    "        basis_id (int): An integer value identifying \n",
    "            the basis state to construct.\n",
    "        n_qubits (int): An integer identifying the \n",
    "            number of qubits.\n",
    "            \n",
    "    Returns:\n",
    "        array[complex]: The state after applying the QFT to the qubits.\n",
    "    \"\"\"\n",
    "    # Prepare the basis state |basis_id>\n",
    "    bits = [int(x) for x in np.binary_repr(basis_id, width=n_qubits)]\n",
    "    qml.BasisStatePreparation(bits, wires=range(n_qubits))\n",
    "\n",
    "    ##################\n",
    "    # YOUR CODE HERE #\n",
    "    ################## \n",
    "    qml.QFT(range(n_qubits))\n",
    "    return qml.state()\n"
   ]
  },
  {
   "cell_type": "code",
   "execution_count": null,
   "id": "a23578d4",
   "metadata": {},
   "outputs": [],
   "source": []
  }
 ],
 "metadata": {
  "kernelspec": {
   "display_name": "Python 3 (ipykernel)",
   "language": "python",
   "name": "python3"
  },
  "language_info": {
   "codemirror_mode": {
    "name": "ipython",
    "version": 3
   },
   "file_extension": ".py",
   "mimetype": "text/x-python",
   "name": "python",
   "nbconvert_exporter": "python",
   "pygments_lexer": "ipython3",
   "version": "3.12.3"
  },
  "widgets": {
   "application/vnd.jupyter.widget-state+json": {
    "state": {},
    "version_major": 2,
    "version_minor": 0
   }
  }
 },
 "nbformat": 4,
 "nbformat_minor": 5
}
