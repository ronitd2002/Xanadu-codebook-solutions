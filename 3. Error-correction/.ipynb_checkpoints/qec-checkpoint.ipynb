{
 "cells": [
  {
   "cell_type": "code",
   "execution_count": 1,
   "id": "4c1db5df-c67f-49d0-b03c-79a2cca54a18",
   "metadata": {},
   "outputs": [],
   "source": [
    "import pennylane as qml\n",
    "import pennylane.numpy as np\n",
    "import matplotlib.pyplot as plt\n",
    "%matplotlib inline"
   ]
  },
  {
   "cell_type": "code",
   "execution_count": 19,
   "id": "9c448f38-f59f-4c33-853f-426073921b35",
   "metadata": {},
   "outputs": [],
   "source": [
    "def encode(b):\n",
    "    \"\"\"Returns three copes of Alice's bit b.\n",
    "    \n",
    "    Args:\n",
    "        b (int): Alice's bit she wants to send to Bob. Can be 0 or 1. \n",
    "         \n",
    "    Returns: \n",
    "        list(int): [b, b, b]\n",
    "    \"\"\"\n",
    "    return [b, b, b, b, b, b, b]\n",
    "\n",
    "def noisy_channel(b, p):\n",
    "    \"\"\"Returns a three-bit codeword message that Bob receives through a noisy channel.\n",
    "    \n",
    "    Args:\n",
    "        b (int): Alice's bit she wants to send to Bob. Can be 0 or 1. \n",
    "        p (float): The probability that a bit is flipped. \n",
    "         \n",
    "    Returns: \n",
    "        list(int): The three-bit codeword that Bob receives. It might be different\n",
    "        than what Alice intended to send!\n",
    "    \"\"\"\n",
    "    alice_sends = encode(b) # Alice sends this to Bob\n",
    "    ##################\n",
    "    # YOUR CODE HERE #\n",
    "    ##################\n",
    "    probs = np.random.uniform(0, 1,size=7)\n",
    "    for i in range(7):\n",
    "        if(probs[i]<p): \n",
    "            alice_sends[i] ^= 1\n",
    "    return alice_sends"
   ]
  },
  {
   "cell_type": "code",
   "execution_count": 20,
   "id": "3c581915-e91c-4bfb-bf77-be653281b29c",
   "metadata": {},
   "outputs": [
    {
     "data": {
      "text/plain": [
       "[0, 1, 0, 0, 0, 1, 1]"
      ]
     },
     "execution_count": 20,
     "metadata": {},
     "output_type": "execute_result"
    }
   ],
   "source": [
    "noisy_channel(0,0.34)"
   ]
  },
  {
   "cell_type": "code",
   "execution_count": 21,
   "id": "86cfa7ec-522c-4bae-a701-e0ef40834735",
   "metadata": {},
   "outputs": [
    {
     "data": {
      "text/plain": [
       "[1, 1, 1, 1, 1, 0, 0]"
      ]
     },
     "execution_count": 21,
     "metadata": {},
     "output_type": "execute_result"
    }
   ],
   "source": [
    "noisy_channel(0,0.76)"
   ]
  },
  {
   "cell_type": "code",
   "execution_count": 22,
   "id": "99db2bd6-c4e3-4303-9ea1-ceacbe761b0b",
   "metadata": {},
   "outputs": [
    {
     "data": {
      "text/plain": [
       "[0, 1, 0, 0, 0, 0, 0]"
      ]
     },
     "execution_count": 22,
     "metadata": {},
     "output_type": "execute_result"
    }
   ],
   "source": [
    "noisy_channel(0,0.34)"
   ]
  },
  {
   "cell_type": "code",
   "execution_count": 23,
   "id": "f8170427-6f26-49e6-8b8a-9fe96450b347",
   "metadata": {},
   "outputs": [
    {
     "data": {
      "text/plain": [
       "[1, 1, 1, 1, 1, 1, 1]"
      ]
     },
     "execution_count": 23,
     "metadata": {},
     "output_type": "execute_result"
    }
   ],
   "source": [
    "noisy_channel(0,0.9999)"
   ]
  },
  {
   "cell_type": "code",
   "execution_count": 24,
   "id": "93c28b39-bef6-4de6-b98a-c8e401c653b0",
   "metadata": {},
   "outputs": [
    {
     "data": {
      "text/plain": [
       "[0, 0, 0, 0, 0, 0, 0]"
      ]
     },
     "execution_count": 24,
     "metadata": {},
     "output_type": "execute_result"
    }
   ],
   "source": [
    "noisy_channel(0,0.000009999)"
   ]
  },
  {
   "cell_type": "code",
   "execution_count": 25,
   "id": "4157fc36-e069-4f30-95f9-b6d320770199",
   "metadata": {},
   "outputs": [
    {
     "data": {
      "text/plain": [
       "[0, 0, 0, 0, 0, 0, 0]"
      ]
     },
     "execution_count": 25,
     "metadata": {},
     "output_type": "execute_result"
    }
   ],
   "source": [
    "noisy_channel(0,0.09999)"
   ]
  }
 ],
 "metadata": {
  "kernelspec": {
   "display_name": "Python 3 (ipykernel)",
   "language": "python",
   "name": "python3"
  },
  "language_info": {
   "codemirror_mode": {
    "name": "ipython",
    "version": 3
   },
   "file_extension": ".py",
   "mimetype": "text/x-python",
   "name": "python",
   "nbconvert_exporter": "python",
   "pygments_lexer": "ipython3",
   "version": "3.11.5"
  },
  "widgets": {
   "application/vnd.jupyter.widget-state+json": {
    "state": {},
    "version_major": 2,
    "version_minor": 0
   }
  }
 },
 "nbformat": 4,
 "nbformat_minor": 5
}
