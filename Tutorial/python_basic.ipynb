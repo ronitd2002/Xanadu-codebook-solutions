{
 "cells": [
  {
   "cell_type": "code",
   "execution_count": 6,
   "id": "4514785a-da67-40ee-ab3e-f4bc5b278171",
   "metadata": {},
   "outputs": [],
   "source": [
    "import pennylane as qml\n",
    "import pennylane.numpy as np"
   ]
  },
  {
   "cell_type": "code",
   "execution_count": 2,
   "id": "37b14b65-3742-47b0-bebb-7367c2253dab",
   "metadata": {},
   "outputs": [],
   "source": [
    "def add_numbers(x, y):\n",
    "    \"\"\"A simple function to add two numbers.\n",
    "    \n",
    "    Args:\n",
    "        x (float): a number\n",
    "        y (float): another number\n",
    "          \n",
    "    Returns:\n",
    "        float: The sum of x and y.\n",
    "    \"\"\"\n",
    "    \n",
    "    ##################\n",
    "    # YOUR CODE HERE #\n",
    "    ##################\n",
    "\n",
    "    return x+y"
   ]
  },
  {
   "cell_type": "code",
   "execution_count": 3,
   "id": "eb31a100-5adf-46cb-9688-4f511675fec3",
   "metadata": {},
   "outputs": [
    {
     "data": {
      "text/plain": [
       "7313"
      ]
     },
     "execution_count": 3,
     "metadata": {},
     "output_type": "execute_result"
    }
   ],
   "source": [
    "add_numbers(344,6969)"
   ]
  },
  {
   "cell_type": "code",
   "execution_count": 4,
   "id": "c3466157-23b4-4982-89a2-378ce980b210",
   "metadata": {},
   "outputs": [],
   "source": [
    "def find_max(x):\n",
    "    \"\"\"A simple function to find the largest value in a numpy array.\n",
    "\n",
    "    Args:\n",
    "        x (array[float]): an array of numbers of size n\n",
    "          \n",
    "    Returns:\n",
    "        float: The maximum value in x.\n",
    "    \"\"\"\n",
    "\n",
    "    ##################\n",
    "    # YOUR CODE HERE #\n",
    "    ##################\n",
    "    return np.max(x)"
   ]
  },
  {
   "cell_type": "code",
   "execution_count": 8,
   "id": "4f4d51b2-c4ae-4c9e-a49c-53b829609295",
   "metadata": {},
   "outputs": [
    {
     "name": "stdout",
     "output_type": "stream",
     "text": [
      "[20833 32310 45470 35115 68129 53702 24956 23149 33648 38104 63225 31534\n",
      " 66019  3606 64217 67979 31473   701 38369 69734 45202 34097 55981 47893\n",
      "  2464 17864 23688 30825 25975]\n",
      "69734\n"
     ]
    }
   ],
   "source": [
    "a = np.random.randint(25,70098, size=29)\n",
    "print(a)\n",
    "\n",
    "#find max \n",
    "print(find_max(a))"
   ]
  }
 ],
 "metadata": {
  "kernelspec": {
   "display_name": "Python 3 (ipykernel)",
   "language": "python",
   "name": "python3"
  },
  "language_info": {
   "codemirror_mode": {
    "name": "ipython",
    "version": 3
   },
   "file_extension": ".py",
   "mimetype": "text/x-python",
   "name": "python",
   "nbconvert_exporter": "python",
   "pygments_lexer": "ipython3",
   "version": "3.11.5"
  },
  "widgets": {
   "application/vnd.jupyter.widget-state+json": {
    "state": {},
    "version_major": 2,
    "version_minor": 0
   }
  }
 },
 "nbformat": 4,
 "nbformat_minor": 5
}
