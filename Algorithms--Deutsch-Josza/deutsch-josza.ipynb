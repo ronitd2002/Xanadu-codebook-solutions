{
 "cells": [
  {
   "cell_type": "code",
   "execution_count": 1,
   "id": "68db7276-ab49-4c0a-a127-926413a81141",
   "metadata": {},
   "outputs": [],
   "source": [
    "import pennylane as qml\n",
    "import pennylane.numpy as np\n",
    "import matplotlib.pyplot as plt\n",
    "%matplotlib inline"
   ]
  },
  {
   "cell_type": "markdown",
   "id": "184d0263-5adc-469d-8464-421a1a164a0f",
   "metadata": {},
   "source": [
    "## Module 1"
   ]
  },
  {
   "cell_type": "code",
   "execution_count": null,
   "id": "fdb91f0d-a17e-40c8-993e-cbcc6935e2c2",
   "metadata": {},
   "outputs": [],
   "source": [
    "n_bits = 4\n",
    "dev = qml.device(\"default.qubit\", wires=n_bits)\n",
    "\n",
    "@qml.qnode(dev)\n",
    "def naive_circuit():\n",
    "    \"\"\"Create a uniform superposition and return the probabilities.\n",
    "\n",
    "    Returns: \n",
    "        array[float]: Probabilities for observing different outcomes.\n",
    "    \"\"\"\n",
    "    for wire in range(n_bits):\n",
    "        ##################\n",
    "        # YOUR CODE HERE #\n",
    "        ##################\n",
    "        qml.Hadamard(wires = wire)\n",
    "    return qml.probs(wires=range(n_bits))"
   ]
  },
  {
   "cell_type": "code",
   "execution_count": null,
   "id": "9fac8139-8620-47c6-8468-df11735ffeeb",
   "metadata": {},
   "outputs": [],
   "source": [
    "plt.style.use('ggplot')\n",
    "plt.title(\"plain uniform superposition\")\n",
    "plt.xlabel(\"states\")\n",
    "plt.ylabel(\"probs\")\n",
    "plt.bar(np.arange(16),naive_circuit())\n",
    "plt.show()"
   ]
  },
  {
   "cell_type": "markdown",
   "id": "822f91e8-8a44-4310-88ca-d81f5a99143f",
   "metadata": {},
   "source": [
    "## Module 2"
   ]
  },
  {
   "cell_type": "code",
   "execution_count": null,
   "id": "80c46e52-a70c-401e-ae40-43f5cdb05019",
   "metadata": {},
   "outputs": [],
   "source": [
    "def oracle_matrix(combo):\n",
    "    \"\"\"Return the oracle matrix for a secret combination.\n",
    "    \n",
    "    Args:\n",
    "        combo (list[int]): A list of bits representing a secret combination.\n",
    "         \n",
    "    Returns: \n",
    "        array[float]: The matrix representation of the oracle.\n",
    "    \"\"\"\n",
    "    index = np.ravel_multi_index(combo, [2]*len(combo)) # Index of solution\n",
    "    my_array = np.identity(2**len(combo)) # Create the identity matrix\n",
    "\n",
    "    ##################\n",
    "    # YOUR CODE HERE #\n",
    "    ##################\n",
    "\n",
    "    # MODIFY DIAGONAL ENTRY CORRESPONDING TO SOLUTION INDEX\n",
    "    w = np.zeros(2**len(combo))\n",
    "    w[index] = -1\n",
    "    my_array = my_array - 2*np.outer(w,w)\n",
    "    return my_array"
   ]
  },
  {
   "cell_type": "code",
   "execution_count": null,
   "id": "fe51b361-2869-4725-b8a6-70a1107947a9",
   "metadata": {},
   "outputs": [],
   "source": [
    "oracle_matrix([0,1,0])"
   ]
  },
  {
   "cell_type": "code",
   "execution_count": null,
   "id": "eead5766-c1f6-4814-ba02-570b1c41d725",
   "metadata": {},
   "outputs": [],
   "source": [
    "n_bits = 4\n",
    "dev = qml.device(\"default.qubit\", wires=n_bits)\n",
    "\n",
    "@qml.qnode(dev)\n",
    "def oracle_circuit(combo):\n",
    "    \"\"\"Create a uniform superposition, apply the oracle, and return probabilities.\n",
    "    \n",
    "    Args:\n",
    "        combo (list[int]): A list of bits representing a secret combination.\n",
    "\n",
    "    Returns:\n",
    "        list[float]: The output probabilities.\n",
    "    \"\"\"\n",
    "\n",
    "    ##################\n",
    "    # YOUR CODE HERE #\n",
    "    ##################\n",
    "    for wire in range(n_bits): \n",
    "        qml.Hadamard(wire)\n",
    "    qml.QubitUnitary(oracle_matrix(combo), wires = range(n_bits))\n",
    "    return qml.probs(wires=range(n_bits))"
   ]
  },
  {
   "cell_type": "code",
   "execution_count": null,
   "id": "917c7d6f-3893-4ff2-8d24-a5db2f617ac8",
   "metadata": {},
   "outputs": [],
   "source": [
    "oracle_circuit([0,0,1,0])"
   ]
  },
  {
   "cell_type": "code",
   "execution_count": null,
   "id": "8e1e913b-0071-4bdf-8917-174fc1e735cf",
   "metadata": {},
   "outputs": [],
   "source": [
    "plt.style.use('ggplot')\n",
    "plt.title(\"after applying oracle\")\n",
    "plt.xlabel(\"states\")\n",
    "plt.ylabel(\"probs\")\n",
    "plt.bar(np.arange(16),oracle_circuit([0,0,1,0]))\n",
    "plt.show()"
   ]
  },
  {
   "cell_type": "markdown",
   "id": "6800f30e-f526-4196-8fdf-fb46fef6a35d",
   "metadata": {},
   "source": [
    "## Module 3"
   ]
  },
  {
   "cell_type": "code",
   "execution_count": null,
   "id": "fad01c73-0a7f-4b7f-a914-4db34cb14fa5",
   "metadata": {},
   "outputs": [],
   "source": []
  }
 ],
 "metadata": {
  "kernelspec": {
   "display_name": "Python 3 (ipykernel)",
   "language": "python",
   "name": "python3"
  },
  "language_info": {
   "codemirror_mode": {
    "name": "ipython",
    "version": 3
   },
   "file_extension": ".py",
   "mimetype": "text/x-python",
   "name": "python",
   "nbconvert_exporter": "python",
   "pygments_lexer": "ipython3",
   "version": "3.12.3"
  },
  "widgets": {
   "application/vnd.jupyter.widget-state+json": {
    "state": {},
    "version_major": 2,
    "version_minor": 0
   }
  }
 },
 "nbformat": 4,
 "nbformat_minor": 5
}
