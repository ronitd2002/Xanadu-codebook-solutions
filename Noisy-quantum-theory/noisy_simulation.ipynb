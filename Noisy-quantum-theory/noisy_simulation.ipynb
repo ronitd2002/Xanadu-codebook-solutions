{
 "cells": [
  {
   "cell_type": "code",
   "execution_count": 1,
   "id": "ec550836-eca9-40d4-b2d1-01c1967c8592",
   "metadata": {},
   "outputs": [],
   "source": [
    "import pennylane as qml\n",
    "import pennylane.numpy as np \n",
    "import matplotlib.pyplot as plt \n",
    "%matplotlib inline"
   ]
  },
  {
   "cell_type": "code",
   "execution_count": 2,
   "id": "da454c0a-83b3-4e87-9812-6c7a86cdf5ff",
   "metadata": {},
   "outputs": [
    {
     "name": "stdout",
     "output_type": "stream",
     "text": [
      "state_1 = |+y>, state_2 = |+x>, p_1 = 0.5, p_2 = 0.5\n",
      "density_matrix:\n",
      "[[0.5 +0.j   0.25-0.25j]\n",
      " [0.25+0.25j 0.5 +0.j  ]]\n"
     ]
    }
   ],
   "source": [
    "def build_density_matrix(state_1, state_2, p_1, p_2):\n",
    "    \"\"\"Build the density matrix for two randomly prepared states.\n",
    "    \n",
    "    Args:\n",
    "        state_1 (array[complex]): A normalized quantum state vector\n",
    "        state_2 (array[complex]): A second normalized quantum state vector\n",
    "        p_1 (float): The probability of preparing state_1\n",
    "        p_2 (float): The probability of preparing state_2\n",
    "        \n",
    "    Returns:\n",
    "        (np.array([array[complex]])): The density matrix for the preparation.\n",
    "    \"\"\"\n",
    " \n",
    "    projector_1 = np.outer(state_1,np.conj(state_1)) # Compute the outer product of state_1 with itself\n",
    "    projector_2 = np.outer(state_2,np.conj(state_2)) # Compute the outer product of state_2 with itself    \n",
    "    \n",
    "    #density_matrix = np.dot(p_1,projector_1) + np.dot(p_2,projector_2) # Build the density matrix\n",
    "    density_matrix = p_1*projector_1 + p_2*projector_2 # Build the density matrix\n",
    "    return np.array(density_matrix)\n",
    "\n",
    "print(\"state_1 = |+y>, state_2 = |+x>, p_1 = 0.5, p_2 = 0.5\")\n",
    "print(\"density_matrix:\")\n",
    "print(build_density_matrix([1,1j]/np.sqrt(2), [1,1]/np.sqrt(2), 0.5, 0.5))   "
   ]
  },
  {
   "cell_type": "code",
   "execution_count": null,
   "id": "e90c2a86-1222-4c19-8900-37855423e3db",
   "metadata": {},
   "outputs": [],
   "source": []
  }
 ],
 "metadata": {
  "kernelspec": {
   "display_name": "Python 3 (ipykernel)",
   "language": "python",
   "name": "python3"
  },
  "language_info": {
   "codemirror_mode": {
    "name": "ipython",
    "version": 3
   },
   "file_extension": ".py",
   "mimetype": "text/x-python",
   "name": "python",
   "nbconvert_exporter": "python",
   "pygments_lexer": "ipython3",
   "version": "3.11.5"
  },
  "widgets": {
   "application/vnd.jupyter.widget-state+json": {
    "state": {},
    "version_major": 2,
    "version_minor": 0
   }
  }
 },
 "nbformat": 4,
 "nbformat_minor": 5
}
