{
 "cells": [
  {
   "cell_type": "code",
   "execution_count": 3,
   "id": "ad23106b",
   "metadata": {},
   "outputs": [],
   "source": [
    "import pennylane as qml\n",
    "import pennylane.numpy as np\n",
    "import matplotlib.pyplot as plt\n",
    "%matplotlib inline\n",
    "plt.style.use('classic')"
   ]
  },
  {
   "cell_type": "markdown",
   "id": "566a3b5f",
   "metadata": {},
   "source": [
    "Codercise 15.1 (a)"
   ]
  },
  {
   "cell_type": "code",
   "execution_count": 4,
   "id": "6b1f6408",
   "metadata": {},
   "outputs": [],
   "source": [
    "def state_preparation():\n",
    "    ##################\n",
    "    # YOUR CODE HERE #\n",
    "    ##################\n",
    "    qml.RY(np.pi/3,0)\n",
    "    # OPTIONALLY UPDATE THIS STATE PREPARATION ROUTINE\n",
    "\n",
    "    qml.Hadamard(wires=0)\n",
    "    qml.Rot(0.1, 0.2, 0.3, wires=0)"
   ]
  },
  {
   "cell_type": "markdown",
   "id": "fcc8fe5a",
   "metadata": {},
   "source": [
    "Codercise 15.1 (b)"
   ]
  },
  {
   "cell_type": "code",
   "execution_count": 5,
   "id": "a88418a3",
   "metadata": {},
   "outputs": [
    {
     "name": "stdout",
     "output_type": "stream",
     "text": [
      "[0.61930934-0.13273109j 0.75978977+0.14682614j]\n"
     ]
    }
   ],
   "source": [
    "dev = qml.device(\"default.qubit\", wires=1)\n",
    "\n",
    "##################\n",
    "# YOUR CODE HERE #\n",
    "##################\n",
    "\n",
    "# OPTIONALLY REPLACE THIS STATE PREPARATION ROUTINE WITH\n",
    "# THE ONE FROM THE PREVIOUS EXERCISE\n",
    "\n",
    "def state_preparation():\n",
    "    qml.Hadamard(wires=0)\n",
    "    qml.Rot(0.1, 0.2, 0.3, wires=0)\n",
    "\n",
    "\n",
    "@qml.qnode(dev)\n",
    "def state_prep_only():\n",
    "    state_preparation()\n",
    "    return qml.state()\n",
    "\n",
    "print(state_prep_only())"
   ]
  },
  {
   "cell_type": "markdown",
   "id": "7f4a6afd",
   "metadata": {},
   "source": [
    "Codercise 15.2"
   ]
  },
  {
   "cell_type": "code",
   "execution_count": 6,
   "id": "12d0abf7",
   "metadata": {},
   "outputs": [],
   "source": [
    "def entangle_qubits():\n",
    "    ##################\n",
    "    # YOUR CODE HERE #\n",
    "    ##################\n",
    "\n",
    "    # ENTANGLE THE SECOND QUBIT (WIRES=1) AND THE THIRD QUBIT\n",
    "    qml.Hadamard(1)\n",
    "    qml.CNOT([1,2])"
   ]
  },
  {
   "cell_type": "markdown",
   "id": "c391d64e",
   "metadata": {},
   "source": [
    "Codercise 15.3"
   ]
  },
  {
   "cell_type": "code",
   "execution_count": 8,
   "id": "1f79dce1",
   "metadata": {},
   "outputs": [],
   "source": [
    "def rotate_and_controls():\n",
    "    ##################\n",
    "    # YOUR CODE HERE #\n",
    "    ##################\n",
    "\n",
    "    # PERFORM THE BASIS ROTATION\n",
    "    qml.CNOT([0,1])\n",
    "    qml.Hadamard(0)\n",
    "    # PERFORM THE CONTROLLED OPERATIONS\n",
    "    qml.CNOT([1,2])\n",
    "    qml.CZ([0,2])"
   ]
  },
  {
   "cell_type": "markdown",
   "id": "dbe5618e",
   "metadata": {},
   "source": [
    "Codercise 15.4"
   ]
  },
  {
   "cell_type": "code",
   "execution_count": 9,
   "id": "bd4d356f",
   "metadata": {},
   "outputs": [
    {
     "name": "stdout",
     "output_type": "stream",
     "text": [
      "[0.30965467-0.06636554j 0.37989488+0.07341307j 0.30965467-0.06636554j\n",
      " 0.37989488+0.07341307j 0.30965467-0.06636554j 0.37989488+0.07341307j\n",
      " 0.30965467-0.06636554j 0.37989488+0.07341307j]\n"
     ]
    }
   ],
   "source": [
    "dev = qml.device(\"default.qubit\", wires=3)\n",
    "\n",
    "##################\n",
    "# YOUR CODE HERE #\n",
    "##################\n",
    "\n",
    "# OPTIONALLY UPDATE THIS STATE PREPARATION ROUTINE\n",
    "def state_preparation():\n",
    "    qml.Hadamard(wires=0)\n",
    "    qml.Rot(0.1, 0.2, 0.3, wires=0)\n",
    "\n",
    "\n",
    "@qml.qnode(dev)\n",
    "def teleportation():\n",
    "    ##################\n",
    "    # YOUR CODE HERE #\n",
    "    ##################\n",
    "\n",
    "    # USE YOUR QUANTUM FUNCTIONS TO IMPLEMENT QUANTUM TELEPORTATION\n",
    "    state_preparation()\n",
    "    entangle_qubits()\n",
    "    rotate_and_controls()\n",
    "    # RETURN THE STATE\n",
    "    return qml.state()\n",
    "\n",
    "print(teleportation())"
   ]
  },
  {
   "cell_type": "markdown",
   "id": "32f1c24e",
   "metadata": {},
   "source": [
    "Codercise 15.5"
   ]
  },
  {
   "cell_type": "code",
   "execution_count": 10,
   "id": "d9110b59",
   "metadata": {},
   "outputs": [
    {
     "name": "stdout",
     "output_type": "stream",
     "text": [
      "[0.61930934-0.13273109j 0.75978977+0.14682614j]\n"
     ]
    }
   ],
   "source": [
    "def extract_qubit_state(input_state):\n",
    "    \"\"\"Extract the state of the third qubit from the combined state after teleportation.\n",
    "    \n",
    "    Args:\n",
    "        input_state (array[complex]): A 3-qubit state of the form \n",
    "            (1/2)(|00> + |01> + |10> + |11>) (a|0> + b|1>)\n",
    "            obtained from the teleportation protocol.\n",
    "            \n",
    "    Returns:\n",
    "        array[complex]: The state vector np.array([a, b]) of the third qubit.\n",
    "    \"\"\"\n",
    "\n",
    "    ##################\n",
    "    # YOUR CODE HERE #\n",
    "    ##################\n",
    "\n",
    "    # DETERMINE THE STATE OF THE THIRD QUBIT\n",
    "    a = 2 * input_state[0]\n",
    "    b = 2 * input_state[1]\n",
    "    \n",
    "    return np.array([a,b])\n",
    "    \n",
    "\n",
    "# Here is the teleportation routine for you\n",
    "dev = qml.device(\"default.qubit\", wires=3)\n",
    "\n",
    "#################\n",
    "# YOUR CODE HERE #\n",
    "##################\n",
    "\n",
    "# OPTIONALLY UPDATE THIS STATE PREPARATION ROUTINE\n",
    "def state_preparation():\n",
    "    qml.Hadamard(wires=0)\n",
    "    qml.Rot(0.1, 0.2, 0.3, wires=0)\n",
    "\n",
    "\n",
    "@qml.qnode(dev)\n",
    "def teleportation():\n",
    "    state_preparation()\n",
    "    entangle_qubits()\n",
    "    rotate_and_controls()    \n",
    "    return qml.state()\n",
    "\n",
    "# Print the extracted state after teleportation\n",
    "full_state = teleportation()\n",
    "print(extract_qubit_state(full_state))"
   ]
  }
 ],
 "metadata": {
  "kernelspec": {
   "display_name": "Python 3 (ipykernel)",
   "language": "python",
   "name": "python3"
  },
  "language_info": {
   "codemirror_mode": {
    "name": "ipython",
    "version": 3
   },
   "file_extension": ".py",
   "mimetype": "text/x-python",
   "name": "python",
   "nbconvert_exporter": "python",
   "pygments_lexer": "ipython3",
   "version": "3.12.3"
  }
 },
 "nbformat": 4,
 "nbformat_minor": 5
}
