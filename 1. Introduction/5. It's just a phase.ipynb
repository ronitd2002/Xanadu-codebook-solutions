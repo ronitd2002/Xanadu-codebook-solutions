{
 "cells": [
  {
   "cell_type": "code",
   "execution_count": 1,
   "id": "1ce9e182-ca10-4b78-aab3-f1ee31d37f91",
   "metadata": {},
   "outputs": [],
   "source": [
    "import pennylane as qml\n",
    "import pennylane.numpy as np\n",
    "import matplotlib.pyplot as plt\n",
    "%matplotlib inline\n",
    "plt.style.use('classic')"
   ]
  },
  {
   "cell_type": "markdown",
   "id": "bc662de3-f749-4d9e-861c-b3613eb374cd",
   "metadata": {},
   "source": [
    "## Exercise 1"
   ]
  },
  {
   "cell_type": "code",
   "execution_count": 2,
   "id": "ce8c1be7-4483-4313-abb1-62eea0e0bb96",
   "metadata": {},
   "outputs": [
    {
     "name": "stdout",
     "output_type": "stream",
     "text": [
      "[ 0.70710678+0.j -0.70710678+0.j]\n"
     ]
    }
   ],
   "source": [
    "dev = qml.device(\"default.qubit\", wires=1)\n",
    "\n",
    "@qml.qnode(dev)\n",
    "def apply_z_to_plus():\n",
    "    \"\"\"Write a circuit that applies PauliZ to the |+> state and returns\n",
    "    the state.\n",
    "\n",
    "    Returns:\n",
    "        array[complex]: The state of the qubit after the operations.\n",
    "    \"\"\"\n",
    "\n",
    "    ##################\n",
    "    # YOUR CODE HERE #\n",
    "    ##################\n",
    "\n",
    "    # CREATE THE |+> STATE\n",
    "    qml.Hadamard(0)\n",
    "    # APPLY PAULI Z\n",
    "    qml.PauliZ(0)\n",
    "    # RETURN THE STATE\n",
    "    return qml.state()\n",
    "\n",
    "print(apply_z_to_plus())"
   ]
  },
  {
   "cell_type": "markdown",
   "id": "46e9d4c1",
   "metadata": {},
   "source": [
    "## Exercise 2"
   ]
  },
  {
   "cell_type": "code",
   "execution_count": 3,
   "id": "42a12e9f-ec42-4aa7-bd84-fc38c7e60fcf",
   "metadata": {},
   "outputs": [
    {
     "name": "stdout",
     "output_type": "stream",
     "text": [
      "[4.32978028e-17-0.70710678j 4.32978028e-17+0.70710678j]\n"
     ]
    }
   ],
   "source": [
    "dev = qml.device(\"default.qubit\", wires=1)\n",
    "\n",
    "@qml.qnode(dev)\n",
    "def fake_z():\n",
    "    \"\"\"Use RZ to produce the same action as Pauli Z on the |+> state.\n",
    "\n",
    "    Returns:\n",
    "        array[complex]: The state of the qubit after the operations.\n",
    "    \"\"\"\n",
    "\n",
    "    ##################\n",
    "    # YOUR CODE HERE #\n",
    "    ##################\n",
    "\n",
    "    # CREATE THE |+> STATE\n",
    "    qml.Hadamard(0)\n",
    "    # APPLY RZ\n",
    "    qml.RZ(np.pi,0)\n",
    "    # RETURN THE STATE\n",
    "    return qml.state()\n",
    "\n",
    "print(fake_z())"
   ]
  },
  {
   "cell_type": "markdown",
   "id": "47463855",
   "metadata": {},
   "source": [
    "## Exercise 3"
   ]
  },
  {
   "cell_type": "code",
   "execution_count": 8,
   "id": "ea5d1526",
   "metadata": {},
   "outputs": [
    {
     "name": "stderr",
     "output_type": "stream",
     "text": [
      "<>:39: SyntaxWarning: invalid escape sequence '\\d'\n",
      "<>:39: SyntaxWarning: invalid escape sequence '\\d'\n",
      "/tmp/ipykernel_339479/2348414558.py:39: SyntaxWarning: invalid escape sequence '\\d'\n",
      "  \"\"\"\n"
     ]
    }
   ],
   "source": [
    "dev = qml.device('default.qubit', wires=3)\n",
    "\n",
    "@qml.qnode(dev)\n",
    "def too_many_ts():\n",
    "    \"\"\"You can implement the original circuit here as well, it may help you with\n",
    "    testing to ensure that the circuits have the same effect.\n",
    "\n",
    "    Returns:\n",
    "        array[float]: The measurement outcome probabilities.\n",
    "    \"\"\"\n",
    "    qml.Hadamard(0)\n",
    "    qml.T(0)\n",
    "    qml.T(0)\n",
    "    qml.Hadamard(0)\n",
    "    qml.adjoint(qml.T(0))\n",
    "    qml.adjoint(qml.T(0))\n",
    "    qml.Hadamard(0)\n",
    "    \n",
    "    qml.Hadamard(1)\n",
    "    qml.T(1)\n",
    "    qml.Hadamard(1)\n",
    "    qml.T(1)\n",
    "    qml.T(1)\n",
    "    qml.T(1)\n",
    "    qml.T(1)\n",
    "    qml.Hadamard(1)\n",
    "    \n",
    "    qml.Hadamard(2)\n",
    "    qml.adjoint(qml.T(2))\n",
    "    qml.Hadamard(2)\n",
    "    qml.adjoint(qml.T(2))\n",
    "    qml.adjoint(qml.T(2))\n",
    "    qml.adjoint(qml.T(2))\n",
    "    qml.Hadamard(2)\n",
    "    return qml.probs(wires=[0, 1, 2])\n",
    "\n",
    "@qml.qnode(dev)\n",
    "def just_enough_ts():\n",
    "    \"\"\"\n",
    "    Implement an equivalent circuit as the above with the minimum number of \n",
    "    T and T^\\dagger gates required.\n",
    "\n",
    "    Returns:\n",
    "        array[float]: The measurement outcome probabilities.\n",
    "    \"\"\"\n",
    "\n",
    "    ##################\n",
    "    # YOUR CODE HERE #\n",
    "    ##################\n",
    "\n",
    "    # IMPLEMENT THE CIRCUIT, BUT COMBINE AND OPTIMIZE THE GATES\n",
    "    # TO MINIMIZE THE NUMBER OF TS\n",
    "\n",
    "\n",
    "    return qml.probs(wires=[0, 1, 2])\n",
    "\n",
    "##################\n",
    "# YOUR CODE HERE #\n",
    "##################\n",
    "\n",
    "original_depth = 0\n",
    "original_t_count = 0\n",
    "original_t_depth = 0\n",
    "\n",
    "optimal_depth = 0\n",
    "optimal_t_count = 0\n",
    "optimal_t_depth = 0\n"
   ]
  },
  {
   "cell_type": "code",
   "execution_count": 9,
   "id": "ee93335f",
   "metadata": {},
   "outputs": [
    {
     "data": {
      "text/plain": [
       "{'resources': Resources(num_wires=3, num_gates=22, gate_types=defaultdict(<class 'int'>, {'Hadamard': 9, 'T': 7, 'Adjoint(T)': 6}), gate_sizes=defaultdict(<class 'int'>, {1: 22}), depth=8, shots=Shots(total_shots=None, shot_vector=())),\n",
       " 'errors': {},\n",
       " 'num_observables': 1,\n",
       " 'num_diagonalizing_gates': 0,\n",
       " 'num_trainable_params': 0,\n",
       " 'num_device_wires': 3,\n",
       " 'device_name': 'default.qubit',\n",
       " 'expansion_strategy': 'gradient',\n",
       " 'gradient_options': {},\n",
       " 'interface': 'auto',\n",
       " 'diff_method': 'best',\n",
       " 'gradient_fn': 'backprop'}"
      ]
     },
     "execution_count": 9,
     "metadata": {},
     "output_type": "execute_result"
    }
   ],
   "source": [
    "specs1 = qml.specs(too_many_ts)\n",
    "specs1()"
   ]
  },
  {
   "cell_type": "code",
   "execution_count": 27,
   "id": "f53b1caf",
   "metadata": {},
   "outputs": [
    {
     "data": {
      "text/plain": [
       "(tensor([[ 0.70710678+0.j,  0.70710678+0.j],\n",
       "         [ 0.70710678+0.j, -0.70710678+0.j]], requires_grad=True),\n",
       " tensor([[1.        +0.j        , 0.        +0.j        ],\n",
       "         [0.        +0.j        , 0.70710678+0.70710678j]], requires_grad=True),\n",
       " tensor([[1.        +0.j        , 0.        +0.j        ],\n",
       "         [0.        +0.j        , 0.70710678+0.70710678j]], requires_grad=True))"
      ]
     },
     "execution_count": 27,
     "metadata": {},
     "output_type": "execute_result"
    }
   ],
   "source": [
    "H = [1,1,1,-1]\n",
    "H = [h*(1+0j)*(1/2**(0.5)) for h in H]\n",
    "H = np.reshape(H, (2,2))\n",
    "S = np.array([[1,0],[0,1j]])\n",
    "T = S = np.array([[1,0],[0,1/2**(0.5)*(1+1j)]])\n",
    "H, S, T"
   ]
  },
  {
   "cell_type": "code",
   "execution_count": 33,
   "id": "9326ecc5",
   "metadata": {},
   "outputs": [
    {
     "data": {
      "text/plain": [
       "tensor([[ 0.5       +2.77555756e-17j,  0.70710678+5.00000000e-01j],\n",
       "        [ 0.70710678-5.00000000e-01j, -0.5       -2.77555756e-17j]], requires_grad=True)"
      ]
     },
     "execution_count": 33,
     "metadata": {},
     "output_type": "execute_result"
    }
   ],
   "source": [
    "H@S@H@np.conjugate(S)@H"
   ]
  },
  {
   "cell_type": "markdown",
   "id": "19529ed0",
   "metadata": {},
   "source": []
  },
  {
   "cell_type": "code",
   "execution_count": 4,
   "id": "4a2a4284-13af-4eba-9b14-d28b0d79582e",
   "metadata": {},
   "outputs": [
    {
     "name": "stdout",
     "output_type": "stream",
     "text": [
      "[0.69916673-0.10566872j 0.56910461-0.41966647j]\n"
     ]
    }
   ],
   "source": [
    "dev = qml.device(\"default.qubit\", wires=1)\n",
    "\n",
    "@qml.qnode(dev)\n",
    "def many_rotations():\n",
    "    \"\"\"Implement the circuit depicted above and return the quantum state.\n",
    "\n",
    "    Returns:\n",
    "        array[complex]: The state of the qubit after the operations.\n",
    "    \"\"\"\n",
    "\n",
    "    ##################\n",
    "    # YOUR CODE HERE #\n",
    "    ##################\n",
    "\n",
    "    # IMPLEMENT THE CIRCUIT\n",
    "    qml.Hadamard(0)\n",
    "    qml.S(0)\n",
    "    qml.adjoint(qml.T)(0)\n",
    "    qml.RZ(0.3,0)\n",
    "    # RETURN THE STATE\n",
    "    qml.adjoint(qml.S)(0)\n",
    "    return qml.state()\n",
    "print(many_rotations())"
   ]
  },
  {
   "cell_type": "code",
   "execution_count": null,
   "id": "5699677a",
   "metadata": {},
   "outputs": [],
   "source": []
  }
 ],
 "metadata": {
  "kernelspec": {
   "display_name": "Python 3 (ipykernel)",
   "language": "python",
   "name": "python3"
  },
  "language_info": {
   "codemirror_mode": {
    "name": "ipython",
    "version": 3
   },
   "file_extension": ".py",
   "mimetype": "text/x-python",
   "name": "python",
   "nbconvert_exporter": "python",
   "pygments_lexer": "ipython3",
   "version": "3.12.3"
  },
  "widgets": {
   "application/vnd.jupyter.widget-state+json": {
    "state": {},
    "version_major": 2,
    "version_minor": 0
   }
  }
 },
 "nbformat": 4,
 "nbformat_minor": 5
}
